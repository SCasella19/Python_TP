{
 "cells": [
  {
   "cell_type": "markdown",
   "metadata": {},
   "source": [
    "# Sendy Inka CASELLA _ M2 IREN\n",
    "\n",
    "# Mode d'emploi\n",
    "Répondez aux questions directement dans le notebook.<br>\n",
    "Les exercices sont repris de la série proposée par Gabrel, Murat, Lazard et Manouvrier dans le cadre du Master IASD  (2018/2019)"
   ]
  },
  {
   "cell_type": "markdown",
   "metadata": {},
   "source": [
    "# Exercice 1\n",
    "Etant donnés la taille (en cm) et l'âge d'un individu, on donne la formule suivante du poids idéal : <br> *0.9(taille - 100 + âge/10).* Ecrire et tester un programme python qui lit la taille et l'âge d'un utilisateur et affiche son poids idéal.<br>\n",
    "Ce programme doit ensuite lire le poids actuel de l'utilisateur et afficher le nombre de kilos à prendre ou à perdre pour atteindre de poids idéal.<br>\n",
    "On distiguera trois cas :<br>\n",
    "- Vous devez perre X kilos\n",
    "- Votre poids est parfait\n",
    "- Vous devez prendre X kilos"
   ]
  },
  {
   "cell_type": "code",
   "execution_count": 3,
   "metadata": {},
   "outputs": [
    {
     "name": "stdout",
     "output_type": "stream",
     "text": [
      "Enter your height: 155\n",
      "Enter your age: 25\n",
      "Your ideal mass is 51.8 kg\n",
      "Enter your current mass: 50\n",
      "You need to take 1.8 kilograms\n"
     ]
    }
   ],
   "source": [
    "# Votre code ici pour l'exercice 1\n",
    "\n",
    "height = int(input('Enter your height: '))\n",
    "age = int(input('Enter your age: '))\n",
    "ideal_mass = round(0.9 * (height - 100 + age / 10), 1)\n",
    "print('Your ideal mass is ' + str(ideal_mass) + ' kg')\n",
    "\n",
    "current_mass = round(float(input('Enter your current mass: ')), 1)\n",
    "\n",
    "if current_mass < ideal_mass:\n",
    "    difference = round(ideal_mass - current_mass, 2)\n",
    "    print('You need to take ' + str(difference) + ' kilograms')\n",
    "\n",
    "# If the first if condition is not fulfilled, then it will check if you're heavier than the ideal mass\n",
    "elif current_mass > ideal_mass:\n",
    "    difference = round(current_mass - ideal_mass, 2)\n",
    "    print('You need to lose ' + str(difference) + ' kilograms')\n",
    "\n",
    "# In any other case (in this scenario, the only remaining case is if the ideal mass and the current mass are the same)\n",
    "else:\n",
    "    print('Your mass is already ideal, keep it up!')"
   ]
  },
  {
   "cell_type": "markdown",
   "metadata": {},
   "source": [
    "# Exercice 2\n",
    "Ecrire un programme quit lit un réel $\\ x \\ge 0$ et un entier $\\ n \\ge 0$ et affiche la valeur de $\\ x^n $ (sans utiliser l'opérateur puissance).<br>\n",
    "Testez votre programme pour les valeurs suivante de $\\ x $ et de $\\ n $ :<br>\n",
    "- $\\ x = 4$ et $\\ n = 3 $ <br>\n",
    "- $\\ x = 5$ et $\\ n = 0 $ <br>\n",
    "- $\\ x = 0$ et $\\ n = 2 $ <br>\n",
    "- $\\ x = 0$ et $\\ n = 0 $ <br>"
   ]
  },
  {
   "cell_type": "code",
   "execution_count": 4,
   "metadata": {},
   "outputs": [
    {
     "name": "stdout",
     "output_type": "stream",
     "text": [
      "Enter your x value: 4\n",
      "Enter your n value: 3\n",
      "64.0\n",
      "Enter your x value: 5\n",
      "Enter your n value: 0\n",
      "5.0\n"
     ]
    }
   ],
   "source": [
    "# Votre code ici pour l'exercice 2\n",
    "\n",
    "x = float(input('Enter your x value: '))\n",
    "n = int(input('Enter your n value: '))\n",
    "result = x\n",
    "\n",
    "for _ in range(n-1):\n",
    "    result =  result * x\n",
    "    \n",
    "print(result)\n",
    "\n",
    "x = float(input('Enter your x value: '))\n",
    "n = int(input('Enter your n value: '))\n",
    "result = x\n",
    "\n",
    "for _ in range(n-1):\n",
    "    result =  result * x\n",
    "    \n",
    "print(result)"
   ]
  },
  {
   "cell_type": "markdown",
   "metadata": {},
   "source": [
    "# Exercice 3\n",
    "Ecrire un programme qui lit un entier strictement positif, affiche la somme de tous ses diviseurs stricts (c'est à dire différents du nombre lui-même) et précise si le nombre est prmier."
   ]
  },
  {
   "cell_type": "code",
   "execution_count": 5,
   "metadata": {},
   "outputs": [
    {
     "name": "stdout",
     "output_type": "stream",
     "text": [
      "Enter a positive number: 101\n",
      "The number 101 is a prime number\n"
     ]
    }
   ],
   "source": [
    "# Votre code ici pour l'exercice 3\n",
    "\n",
    "nb = int(input('Enter a positive number: '))\n",
    "strict_dividers = [] # empty list\n",
    "\n",
    "for temp_nb in range(2, nb):\n",
    "    if nb % temp_nb == 0:\n",
    "        strict_dividers.append(temp_nb)\n",
    "\n",
    "if len(strict_dividers) == 0:\n",
    "    print('The number ' + str(nb) + ' is a prime number')\n",
    "else:\n",
    "    strict_sum = sum(strict_dividers)\n",
    "    print('The sum of all strict dividers of the number ' + str(nb) + ' is ' + str(strict_sum))"
   ]
  },
  {
   "cell_type": "markdown",
   "metadata": {},
   "source": [
    "# Exercice 4\n",
    "Ecrire une fonction Cube()qui calcule le cube d'un réel $\\ x $ passé en argument.<br>\n",
    "Ecrire une fonction Volume() qui calcule le volume d'une sphère de rayon $\\ r $ passé en argument en appelant la fonction Cube() précédente. Pour rappel, le volume d'une sphère se calcule par la formule :$\\ V = (4/3). \\pi. r^3  $ <br>\n",
    "Testez votre fonction Volume() en affichant le volume d'une sphère dont le rayon est saisi par l'utilisateur."
   ]
  },
  {
   "cell_type": "code",
   "execution_count": 6,
   "metadata": {},
   "outputs": [
    {
     "name": "stdout",
     "output_type": "stream",
     "text": [
      "Enter the radius: 14\n",
      "11494.040321933855\n"
     ]
    }
   ],
   "source": [
    "# Votre code ici pour l'exercice 4\n",
    "\n",
    "from math import pi\n",
    "\n",
    "def Cube(x):\n",
    "    return x ** 3\n",
    "\n",
    "def Volume(r):\n",
    "    return (4/3) * pi * Cube(r)\n",
    "\n",
    "radius = int(input('Enter the radius: '))\n",
    "print(Volume(radius))"
   ]
  },
  {
   "cell_type": "markdown",
   "metadata": {},
   "source": [
    "# Exercice 5 (bonus)\n",
    "Soit un cercle de, de centre $\\ (0,0) $ et de rayon $\\ r=1 $, inscrit dans un carré de coté $\\ l=2 $. l'air du carré vaut 4 et l'air du cercle vaut $\\ \\pi $. En choisissant $\\ N $ points aléatoires (à l'aide d'une distribution uniforme) à l'intérieur du carré, chaque point a une probabilité $\\ p= \\frac{\\text{aire du cercle}}{\\text{aire du carré}}= \\frac{\\pi}{4} $ de se retrouver dans le cercle.<br>\n",
    "Pour estimer la valeur de $\\ \\pi $, il suffit de trouver parmi les $\\ N $ points aléatoirement le nombre $\\ n $ de points se trouvant effectivement dans le cercle car :$\\ p=\\frac{n}{N}\\approx\\frac{\\pi}{4} $ d'où : $\\\n",
    "\\pi \\approx 4.\\frac{n}{N} $ <br>\n",
    "Déterminez une approximation de $\\ \\pi $ par cette méthode. Pour cela procèdez en $\\ N $ itérations. A chaque itération, tirez aléatoirement les coordonnées $\\ (x,y) $ d'un point entre -1 et 1 (fonction uniform() du module random), calculez la distance entre ce point de coordonnées $\\ (x,y) $ et le centre du cercle (cette distance est égale à $\\ \\sqrt[]{x^2+y^2} $), déterminez si cette distance est inférieure au rayon du cercle qui est égale à 1. Si c'est le cas, incrémentez le compteur $\\ n $ de 1.<br>\n",
    "Quelle est la qualité de l'approximation de $\\ \\pi $ pour:<br>\n",
    "- $\\ N=50 $\n",
    "- $\\ N=500 $\n",
    "- $\\ N=5000 $\n",
    "                               "
   ]
  },
  {
   "cell_type": "code",
   "execution_count": 7,
   "metadata": {},
   "outputs": [
    {
     "name": "stdout",
     "output_type": "stream",
     "text": [
      "40\n",
      "402\n",
      "3928\n"
     ]
    }
   ],
   "source": [
    "# Votre code ici pour l'exercice 5\n",
    "\n",
    "from random import uniform # import the function uniform from the library random\n",
    "from math import sqrt # import the square root function\n",
    "\n",
    "def approximate(N):\n",
    "    n = 0\n",
    "    for i in range(N):\n",
    "        x = uniform(-1, 1)\n",
    "        y = uniform(-1, 1)\n",
    "        distance = sqrt(x ** 2 + y ** 2) # apply distance formula\n",
    "        if distance < 1:\n",
    "            n = n + 1\n",
    "    return n\n",
    "\n",
    "print(approximate(50))\n",
    "print(approximate(500))\n",
    "print(approximate(5000))"
   ]
  },
  {
   "cell_type": "markdown",
   "metadata": {},
   "source": [
    "# Exercice 6 (bonus)\n",
    "Ecrivez la fonction récursive (fonction qui fait appel à elle-même) qui permet d'obtenir la valeur de la suite $\\ U_{n} $, pour un $\\ n $ donné en argument et définie par:<br>\n",
    "$\\ \\begin{cases}U_{0}= 10\\\\U_{n}=0.2.U_{n-1}+3\\end{cases} $"
   ]
  },
  {
   "cell_type": "code",
   "execution_count": 2,
   "metadata": {},
   "outputs": [],
   "source": [
    "# Votre code ici pour l'exercice 6\n",
    "\n",
    "def U(n):\n",
    "    if n == 0:\n",
    "        return 10\n",
    "    else:\n",
    "        return 0.2 * U(n-1) + 3 # to call the function above"
   ]
  },
  {
   "cell_type": "code",
   "execution_count": 3,
   "metadata": {},
   "outputs": [
    {
     "name": "stdout",
     "output_type": "stream",
     "text": [
      "5.0\n",
      "3.75000064\n",
      "3.75\n"
     ]
    }
   ],
   "source": [
    "print(U(1))\n",
    "print(U(10))\n",
    "print(U(100))"
   ]
  },
  {
   "cell_type": "markdown",
   "metadata": {},
   "source": [
    "# Exercice 7\n",
    "Soit deux listes d'entiers $\\ L1$ et $\\ L2$. Ecrire une fonction qui prend $\\ L1$ et $\\ L2$ en arguments et renvoie la liste $\\ LRes$ qui contient la somme des éléments de même rang de la liste $\\ L1$ et $\\ L2$ auquelles on ajoute les éléments restant de la liste la plus longue.<br>\n",
    "Testez votre fonction pour $\\ L1=[1,2,3,4,5] \\text{ et } L2=[2,15,18]  $ qui devrait donner  $\\ LRes=[3,17,21,4,5]$"
   ]
  },
  {
   "cell_type": "code",
   "execution_count": 27,
   "metadata": {},
   "outputs": [],
   "source": [
    "# Votre code ici pour l'exercice 7\n",
    "\n",
    "def add_list(l1, l2):\n",
    "    lres = [] \n",
    "    if len(l1) < len(l2):\n",
    "        l1, l2 = l2, l1\n",
    "    for i in range(len(l1)):\n",
    "        if i < len(l2):\n",
    "            lres.append(l1[i] + l2[i])\n",
    "        else:\n",
    "            lres.append(l1[i])\n",
    "                \n",
    "    return lres"
   ]
  },
  {
   "cell_type": "code",
   "execution_count": 28,
   "metadata": {},
   "outputs": [
    {
     "name": "stdout",
     "output_type": "stream",
     "text": [
      "[3, 17, 21, 4, 5]\n"
     ]
    }
   ],
   "source": [
    "L1 = [1, 2, 3, 4, 5]\n",
    "L2 = [2, 15, 18]\n",
    "print(add_list(L1, L2))\n",
    "assert add_list(L1, L2) == [3, 17, 21, 4, 5]"
   ]
  },
  {
   "cell_type": "markdown",
   "metadata": {},
   "source": [
    "# Exercice 8\n",
    "Etant donné une liste $\\ L$ et un élément $\\ x$, ecrire un programme qui permet de supprimer toutes les occurences de l'élément $\\ x$ dans la liste $\\ L$.<br>\n",
    "Testez votre programme sur la liste $\\ L=[0,1,2,0,3,0,0]$ avec $\\ x=0$"
   ]
  },
  {
   "cell_type": "code",
   "execution_count": 11,
   "metadata": {},
   "outputs": [],
   "source": [
    "# Votre code ici pour l'exercice 8\n",
    "\n",
    "def remove_letter(L, x):\n",
    "    filtered_list = []\n",
    "    for element in L:\n",
    "        if element != x:\n",
    "            filtered_list.append(element)\n",
    "            \n",
    "    return filtered_list"
   ]
  },
  {
   "cell_type": "code",
   "execution_count": 12,
   "metadata": {},
   "outputs": [
    {
     "name": "stdout",
     "output_type": "stream",
     "text": [
      "[1, 2, 3]\n"
     ]
    }
   ],
   "source": [
    "L = [0, 1, 2, 0, 3, 0, 0]\n",
    "print(remove_letter(L, 0))\n",
    "assert remove_letter(L, 0) == [1, 2, 3]"
   ]
  },
  {
   "cell_type": "markdown",
   "metadata": {},
   "source": [
    "# Exercice 9\n",
    "Après un examen, les notes des étudiants sont les suivantes:<br>\n",
    "Florian:abs, Antoine:12, Clara:15, Robert:0, Agathe:0, Erwan: 7, Zoe:20, Xavier:11, Didier: 20,Alain:2, Laila:12.<br>\n",
    "- Créer un dictionnaire notes2020 pour stocker les noms des étudiants (les clés) et les notes associées (les valeurs)\n",
    "- Ecrire une fonction qui permet de supprimer du dictionnaire les informations relatives aux élèves absents\n",
    "- Ecrire une fonction qui permet de calculer puis afficher la note moyenne, la note minimale et la note maximale\n",
    "- Ecrire une fonction qui renvoie \"admis\" ou \"recalé\" si la note est respectivement supérieure ou égale à 10 et inférieure à 10.\n",
    "- Ecrire une fonction qui renvoie deux listes : L_admis qui contient les noms de personnes admises et L_recalesqui contient la liste des personnes recalées\n",
    "- Ecrire une fonction permettant d'ajouter dans le dictionnaire des couples (nom,note)\n",
    "    "
   ]
  },
  {
   "cell_type": "code",
   "execution_count": 5,
   "metadata": {},
   "outputs": [],
   "source": [
    "# Votre code ici pour l'exercice 9\n",
    "\n",
    "notes2020 = {'Florian': 'abs', 'Antoine': 12, 'Clara': 15,\n",
    "             'Robert': 0, 'Agathe': 0, 'Erwan': 7, 'Zoe': 20,\n",
    "             'Xavier': 11, 'Didier': 20, 'Alain': 2, 'Laila': 12}"
   ]
  },
  {
   "cell_type": "code",
   "execution_count": 6,
   "metadata": {},
   "outputs": [],
   "source": [
    "def remove_abs():\n",
    "    global notes2020\n",
    "    filtered_dict = {}\n",
    "    for name, grade in notes2020.items():\n",
    "        if grade != 'abs':\n",
    "            filtered_dict[name] = grade\n",
    "    notes2020 = filtered_dict"
   ]
  },
  {
   "cell_type": "code",
   "execution_count": 7,
   "metadata": {},
   "outputs": [
    {
     "name": "stdout",
     "output_type": "stream",
     "text": [
      "{'Antoine': 12, 'Clara': 15, 'Robert': 0, 'Agathe': 0, 'Erwan': 7, 'Zoe': 20, 'Xavier': 11, 'Didier': 20, 'Alain': 2, 'Laila': 12}\n"
     ]
    }
   ],
   "source": [
    "remove_abs()\n",
    "print(notes2020)"
   ]
  },
  {
   "cell_type": "code",
   "execution_count": 8,
   "metadata": {},
   "outputs": [],
   "source": [
    "def calculate():\n",
    "    notes_sum = 0 \n",
    "    maximum = 0 \n",
    "    minimum = 20\n",
    "    \n",
    "    for grade in notes2020.values():\n",
    "        notes_sum = notes_sum + grade\n",
    "        if minimum > grade:\n",
    "            minimum = grade\n",
    "        elif maximum < grade:\n",
    "            maximum = grade\n",
    "            \n",
    "    total_students = len(notes2020)\n",
    "    average = notes_sum / total_students\n",
    "    \n",
    "    print('The average is ' + str(average))\n",
    "    print('The minumum is ' + str(minimum))\n",
    "    print('The maximum is ' + str(maximum))"
   ]
  },
  {
   "cell_type": "code",
   "execution_count": 9,
   "metadata": {},
   "outputs": [
    {
     "name": "stdout",
     "output_type": "stream",
     "text": [
      "The average is 9.9\n",
      "The minumum is 0\n",
      "The maximum is 20\n"
     ]
    }
   ],
   "source": [
    "calculate()"
   ]
  },
  {
   "cell_type": "code",
   "execution_count": 10,
   "metadata": {},
   "outputs": [],
   "source": [
    "def check_admis(grade):\n",
    "    if grade >= 10:\n",
    "        return 'admis'\n",
    "    else:\n",
    "        return 'recalé'"
   ]
  },
  {
   "cell_type": "code",
   "execution_count": 11,
   "metadata": {},
   "outputs": [
    {
     "name": "stdout",
     "output_type": "stream",
     "text": [
      "admis\n"
     ]
    }
   ],
   "source": [
    "g = notes2020['Antoine']\n",
    "print(check_admis(g))"
   ]
  },
  {
   "cell_type": "code",
   "execution_count": 12,
   "metadata": {},
   "outputs": [
    {
     "name": "stdout",
     "output_type": "stream",
     "text": [
      "(['Antoine', 'Clara', 'Zoe', 'Xavier', 'Didier', 'Laila'], ['Robert', 'Agathe', 'Erwan', 'Alain'])\n"
     ]
    }
   ],
   "source": [
    "def liste_admis():\n",
    "    L_admis = []\n",
    "    L_recale = []\n",
    "    for name, grade in notes2020.items():\n",
    "        if check_admis(grade) == 'admis':\n",
    "            L_admis.append(name)\n",
    "        else:\n",
    "            L_recale.append(name)\n",
    "    return L_admis, L_recale\n",
    "\n",
    "print(liste_admis())"
   ]
  },
  {
   "cell_type": "code",
   "execution_count": 13,
   "metadata": {},
   "outputs": [
    {
     "name": "stdout",
     "output_type": "stream",
     "text": [
      "Enter the student's name: Sendy\n",
      "Enter the grade: 20\n",
      "{'Antoine': 12, 'Clara': 15, 'Robert': 0, 'Agathe': 0, 'Erwan': 7, 'Zoe': 20, 'Xavier': 11, 'Didier': 20, 'Alain': 2, 'Laila': 12, 'Sendy': 20}\n"
     ]
    }
   ],
   "source": [
    "def add_info():\n",
    "    global notes2020\n",
    "    name = input(\"Enter the student's name: \")\n",
    "    grade = int(input(\"Enter the grade: \"))\n",
    "    notes2020[name] = grade\n",
    "    \n",
    "add_info()\n",
    "print(notes2020)"
   ]
  },
  {
   "cell_type": "markdown",
   "metadata": {},
   "source": [
    "# Exercice 10 (bonus)\n",
    "Ecrire une fonction qui prend en paramètre une chaîne de caractères et renvoie un dictionnaire mettant en correspondance chaque caratctère apparaisssant dans la chaîne avec le nombre de ses occurences dans la chaîne.<br>\n",
    "Par exemple, si la fonction prend en paramètre la chaîne \"toto\", le dictionnaire renvoyé par la fonction aura pour valeur: {'t' : 2, 'o' : 2}."
   ]
  },
  {
   "cell_type": "code",
   "execution_count": 14,
   "metadata": {},
   "outputs": [
    {
     "name": "stdout",
     "output_type": "stream",
     "text": [
      "{'t': 2, 'o': 2}\n"
     ]
    }
   ],
   "source": [
    "# Votre code ici pour l'exercice 10\n",
    "\n",
    "def count_occurences(string):\n",
    "    occurences = {}\n",
    "    for char in string:\n",
    "        if char in occurences:\n",
    "            occurences[char] = occurences[char] + 1\n",
    "        else:\n",
    "            occurences[char] = 1\n",
    "    return occurences\n",
    "\n",
    "print(count_occurences('toto'))"
   ]
  }
 ],
 "metadata": {
  "kernelspec": {
   "display_name": "Python 3",
   "language": "python",
   "name": "python3"
  },
  "language_info": {
   "codemirror_mode": {
    "name": "ipython",
    "version": 3
   },
   "file_extension": ".py",
   "mimetype": "text/x-python",
   "name": "python",
   "nbconvert_exporter": "python",
   "pygments_lexer": "ipython3",
   "version": "3.7.6"
  }
 },
 "nbformat": 4,
 "nbformat_minor": 2
}
